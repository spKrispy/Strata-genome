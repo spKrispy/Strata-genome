{
 "cells": [
  {
   "cell_type": "code",
   "execution_count": null,
   "metadata": {},
   "outputs": [],
   "source": [
    "import pandas as pd\n",
    "import numpy as np\n",
    "import os\n",
    "import glob2\n",
    "import re"
   ]
  },
  {
   "cell_type": "code",
   "execution_count": null,
   "metadata": {},
   "outputs": [],
   "source": [
    "path= \"/content/drive/MyDrive/Skin_csv\" #Importing all csv files of samples"
   ]
  },
  {
   "cell_type": "code",
   "execution_count": null,
   "metadata": {},
   "outputs": [],
   "source": [
    "files= glob2.glob(os.path.join(path, \"*.csv\"))\n",
    "print(len(files))"
   ]
  },
  {
   "cell_type": "code",
   "execution_count": null,
   "metadata": {},
   "outputs": [],
   "source": [
    "Indigenes=pd.read_csv(\"/content/Indiegenes.csv\",header=None)\n",
    "genes=Indigenes[0].tolist()\n",
    "s=0\n",
    "my_df=[]\n",
    "\n",
    "\n",
    "for i, file_path in enumerate(files):\n",
    "    # Extract column name from the file name\n",
    "    col_name = re.split(r'/|\\\\', file_path)[-1].split('_')[0]\n",
    "\n",
    "    # Read the file\n",
    "    df = pd.read_csv(file_path)\n",
    "    filtered_df = df[df['Ref.Gene'].isin(genes)]\n",
    "    filtered_df['InterVar_automated'] = filtered_df['InterVar_automated'].replace(mapping).astype(int)\n",
    "    filtered_df['InterVar_automated'] = pd.cut(filtered_df['InterVar_automated'], bins=[0, 1, 4, 6], labels=[0, 1, 2], include_lowest=True)\n",
    "    pivot_df = filtered_df.pivot_table(index='Ref.Gene', columns=col_name, values='InterVar_automated', aggfunc='max', fill_value=0)\n",
    "    result_df = pd.concat([result_df, pivot_df], axis=1)\n",
    "\n",
    "    print(f'{i + 1} || {len(files)}')"
   ]
  },
  {
   "cell_type": "code",
   "execution_count": null,
   "metadata": {},
   "outputs": [],
   "source": []
  }
 ],
 "metadata": {
  "kernelspec": {
   "display_name": "Python 3",
   "language": "python",
   "name": "python3"
  },
  "language_info": {
   "codemirror_mode": {
    "name": "ipython",
    "version": 3
   },
   "file_extension": ".py",
   "mimetype": "text/x-python",
   "name": "python",
   "nbconvert_exporter": "python",
   "pygments_lexer": "ipython3",
   "version": "3.10.2"
  }
 },
 "nbformat": 4,
 "nbformat_minor": 2
}
