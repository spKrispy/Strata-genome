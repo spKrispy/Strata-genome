{
  "nbformat": 4,
  "nbformat_minor": 0,
  "metadata": {
    "colab": {
      "provenance": [],
      "authorship_tag": "ABX9TyN4weYQ3iiBlia9Y37rE7LM",
      "include_colab_link": true
    },
    "kernelspec": {
      "name": "python3",
      "display_name": "Python 3"
    },
    "language_info": {
      "name": "python"
    }
  },
  "cells": [
    {
      "cell_type": "markdown",
      "metadata": {
        "id": "view-in-github",
        "colab_type": "text"
      },
      "source": [
        "<a href=\"https://colab.research.google.com/github/spKrispy/Strata-genome/blob/main/VCFs_filtering.ipynb\" target=\"_parent\"><img src=\"https://colab.research.google.com/assets/colab-badge.svg\" alt=\"Open In Colab\"/></a>"
      ]
    },
    {
      "cell_type": "code",
      "execution_count": null,
      "metadata": {
        "id": "rgtZcdCmDOGT"
      },
      "outputs": [],
      "source": [
        "import warnings\n",
        "warnings.simplefilter(action='ignore')\n",
        "import pandas as pd\n",
        "import numpy as np\n",
        "import os\n",
        "import glob2\n",
        "import re\n",
        "import progressbar\n",
        "import time\n",
        "import matplotlib.pyplot as plt\n",
        "import seaborn as sns"
      ]
    },
    {
      "cell_type": "code",
      "source": [
        "from google.colab import drive\n",
        "drive.mount('/content/drive', force_remount=True)\n",
        "\n",
        "path= \"/content/drive/Shareddrives/StrataGenome/SNV_CE/VCFs_raw\" #Importing all csv files of samples"
      ],
      "metadata": {
        "colab": {
          "base_uri": "https://localhost:8080/"
        },
        "id": "0RGlsIYzDret",
        "outputId": "347be7e9-b25a-47da-b7f0-c8d107c71005"
      },
      "execution_count": null,
      "outputs": [
        {
          "output_type": "stream",
          "name": "stdout",
          "text": [
            "Mounted at /content/drive\n"
          ]
        }
      ]
    },
    {
      "cell_type": "code",
      "source": [
        "mkdir /content/drive/Shareddrives/StrataGenome/SNV_CE/VCFs_filtered"
      ],
      "metadata": {
        "id": "OMmIikVyGosb"
      },
      "execution_count": null,
      "outputs": []
    },
    {
      "cell_type": "code",
      "source": [
        "files= glob2.glob(os.path.join(path, \"*.csv\"))\n",
        "ce_files = []\n",
        "abs_files =[]\n",
        "\n",
        "for i in files:\n",
        "  if '-SE8-' in i or '-SSE-' in i or 'SSE' in i or 'SE8' in i or '-B-' in i or 'cf' in i:\n",
        "    abs_files.append(i)\n",
        "  else:\n",
        "    ce_files.append(i)"
      ],
      "metadata": {
        "id": "-73qlX3mDrd3"
      },
      "execution_count": null,
      "outputs": []
    },
    {
      "cell_type": "code",
      "source": [
        "\n",
        "for i in progressbar.progressbar(range(len(ce_files))):\n",
        "  df = pd.read_csv(ce_files[i]).drop_duplicates('IGV_link')\n",
        "  sp1=re.split(r'/|\\\\',ce_files[i])[-1]\n",
        "  col_n=sp1.split('_')[0]\n",
        "  df = df[df[f'{col_n}:DP']!='.']\n",
        "  df[f'{col_n}:DP'] = df[f'{col_n}:DP'].astype('float')\n",
        "  df = df[df[f'{col_n}:DP']>=10]\n",
        "  df = df[df['ExonicFunc.ensGene']=='nonsynonymous SNV']\n",
        "  df = df[~df['InterVar_automated'].str.contains('benign', case=False)]\n",
        "  df.to_csv(f'/content/drive/Shareddrives/StrataGenome/SNV_CE/VCFs_filtered/{col_n}_filtered.csv', index=False)\n"
      ],
      "metadata": {
        "colab": {
          "base_uri": "https://localhost:8080/"
        },
        "id": "PypCi6o0DZWr",
        "outputId": "88d0e919-533d-42c2-db02-c18147f9e525"
      },
      "execution_count": null,
      "outputs": [
        {
          "output_type": "stream",
          "name": "stderr",
          "text": [
            "100% (1473 of 1473) |####################| Elapsed Time: 0:24:26 Time:  0:24:26\n"
          ]
        }
      ]
    },
    {
      "cell_type": "code",
      "source": [],
      "metadata": {
        "id": "kHdDKWIzHG-4"
      },
      "execution_count": null,
      "outputs": []
    }
  ]
}